{
 "cells": [
  {
   "cell_type": "code",
   "execution_count": null,
   "metadata": {},
   "outputs": [],
   "source": [
    "def bs(item, ls, start, end):\n",
    "    if start <= end:\n",
    "        mid =  (end + start) /2\n",
    "        if  ls[mid] == item : return ls[mid]\n",
    "        elif ls[mid] < item : return bs(item, ls, mid+1, end)\n",
    "        elif ls[mid] > item : return bs(item, ls , start, mid-1)\n",
    "        else : return -100\n",
    "\n",
    "ls = [1,2,3,4,5,6,7,8,9]\n",
    "bs(6,ls,0, 10)\n",
    "    "
   ]
  },
  {
   "cell_type": "code",
   "execution_count": null,
   "metadata": {},
   "outputs": [],
   "source": [
    "def strlength(str):\n",
    "    counter = 0\n",
    "    for i in str: counter+=1 \n",
    "    return counter\n",
    "\n",
    "def whiler(str):\n",
    "    i = 0\n",
    "    while str[i:]!= \"\":\n",
    "        i+=1\n",
    "    return i\n",
    "\n",
    "def splitter(str):\n",
    "    return(len(list(str)))\n",
    "\n",
    "splitter(\"abc\")\n",
    "strlength(\"abc\")\n",
    "whiler(\"my name\")\n"
   ]
  },
  {
   "cell_type": "code",
   "execution_count": null,
   "metadata": {},
   "outputs": [],
   "source": [
    "6.5**2\n"
   ]
  },
  {
   "cell_type": "code",
   "execution_count": null,
   "metadata": {},
   "outputs": [],
   "source": [
    "2**38"
   ]
  },
  {
   "cell_type": "code",
   "execution_count": null,
   "metadata": {},
   "outputs": [],
   "source": [
    "ls = ['ahaan', 23, 24, 25]\n",
    "print(ls[3:-1])"
   ]
  },
  {
   "cell_type": "code",
   "execution_count": null,
   "metadata": {},
   "outputs": [],
   "source": [
    "a = (1)\n",
    "print(a)"
   ]
  },
  {
   "cell_type": "code",
   "execution_count": null,
   "metadata": {},
   "outputs": [],
   "source": [
    "def gete(stro):\n",
    "    inp = \"g fmnc wms bgblr rpylqjyrc gr zw fylb. rfyrq ufyr amknsrcpq ypc dmp. bmgle gr gl zw fylb gq glcddgagclr ylb rfyr'q ufw rfgq rcvr gq qm jmle. sqgle qrpgle.kyicrpylq() gq pcamkkclbcb. lmu ynnjw ml rfc spj.\"\n",
    "    #inp = \"http://www.pythonchallenge.com/pc/def/map.html\"\n",
    "   \n",
    "    inp = list(inp)\n",
    "    for i in range(len(inp)):\n",
    "        if inp[i].isalpha() and  inp[i] != 'y' : inp[i] = chr(ord(inp[i])+2)\n",
    "        elif inp[i] == 'y': inp[i] = 'a'\n",
    "    print(''.join(inp))\n",
    "\n",
    "gete('a')"
   ]
  },
  {
   "cell_type": "raw",
   "metadata": {},
   "source": []
  },
  {
   "cell_type": "code",
   "execution_count": null,
   "metadata": {},
   "outputs": [],
   "source": [
    "from string import maketrans\n",
    "str = \"http://www.pythonchallenge.com/pc/def/map.html\"\n",
    "transtab = maketrans(\"koe\", \"mqg\")\n",
    "print str.translate(transtab)"
   ]
  },
  {
   "cell_type": "code",
   "execution_count": null,
   "metadata": {},
   "outputs": [],
   "source": [
    "from collections import Counter\n",
    "\n",
    "str = raw_input(\">\")\n",
    "\n",
    "dict = {}\n",
    "\n",
    "for i in str:\n",
    "    keys = dict.keys()\n",
    "    if i in keys:\n",
    "        dict[i] += 1\n",
    "    else:\n",
    "        dict[i] = 1\n",
    "for key, value in sorted(dict.iteritems(), key=lambda (k,v): (v,k)):\n",
    "    print \"%s: %s\" % (key, value)\n",
    "\n"
   ]
  },
  {
   "cell_type": "code",
   "execution_count": null,
   "metadata": {},
   "outputs": [],
   "source": [
    "from collections import Counter\n",
    "\n",
    "str = raw_input(\">\")\n",
    "\n",
    "dict = {}\n",
    "\n",
    "for i in str:\n",
    "    keys = dict.keys()\n",
    "    if i in keys:\n",
    "        dict[i] += 1\n",
    "    else:\n",
    "        dict[i] = 1\n",
    "for key, value in sorted(dict.iteritems(), key=lambda (k,v): (v,k)):\n",
    "    print \"%s: %s\" % (key, value)\n",
    "\n"
   ]
  },
  {
   "cell_type": "code",
   "execution_count": null,
   "metadata": {},
   "outputs": [],
   "source": [
    "import urllib\n",
    " \n",
    "base = \"http://www.pythonchallenge.com/pc/def/linkedlist.php?nothing=12345\".split(\"=\")[0]\n",
    "x = urllib.urlopen(\"http://www.pythonchallenge.com/pc/def/linkedlist.php?nothing=12345\")\n",
    "for i in range(400):\n",
    "    part = x.read().split()\n",
    "    #print(part)\n",
    "    part = part[len(part)-1]\n",
    "    #print(part)\n",
    "    url = base+\"=\"+part\n",
    "    print(\"[\" + __builtins__.str(i) + \"] \" + url)\n",
    "    x = urllib.urlopen(url)\n",
    "    \n"
   ]
  },
  {
   "cell_type": "code",
   "execution_count": 3,
   "metadata": {},
   "outputs": [
    {
     "ename": "TypeError",
     "evalue": "dump() takes at least 2 arguments (1 given)",
     "output_type": "error",
     "traceback": [
      "\u001b[0;31m\u001b[0m",
      "\u001b[0;31mTypeError\u001b[0mTraceback (most recent call last)",
      "\u001b[0;32m<ipython-input-3-112365198a23>\u001b[0m in \u001b[0;36m<module>\u001b[0;34m()\u001b[0m\n\u001b[1;32m      1\u001b[0m \u001b[0;32mimport\u001b[0m \u001b[0mpickle\u001b[0m\u001b[0;34m\u001b[0m\u001b[0m\n\u001b[1;32m      2\u001b[0m \u001b[0mdogs_dict\u001b[0m \u001b[0;34m=\u001b[0m \u001b[0;34m{\u001b[0m \u001b[0;34m'Ozzy'\u001b[0m\u001b[0;34m:\u001b[0m \u001b[0;36m3\u001b[0m\u001b[0;34m,\u001b[0m \u001b[0;34m'Filou'\u001b[0m\u001b[0;34m:\u001b[0m \u001b[0;36m8\u001b[0m\u001b[0;34m,\u001b[0m \u001b[0;34m'Luna'\u001b[0m\u001b[0;34m:\u001b[0m \u001b[0;36m5\u001b[0m\u001b[0;34m,\u001b[0m \u001b[0;34m'Skippy'\u001b[0m\u001b[0;34m:\u001b[0m \u001b[0;36m10\u001b[0m\u001b[0;34m,\u001b[0m \u001b[0;34m'Barco'\u001b[0m\u001b[0;34m:\u001b[0m \u001b[0;36m12\u001b[0m\u001b[0;34m,\u001b[0m \u001b[0;34m'Balou'\u001b[0m\u001b[0;34m:\u001b[0m \u001b[0;36m9\u001b[0m\u001b[0;34m,\u001b[0m \u001b[0;34m'Laika'\u001b[0m\u001b[0;34m:\u001b[0m \u001b[0;36m16\u001b[0m \u001b[0;34m}\u001b[0m\u001b[0;34m\u001b[0m\u001b[0m\n\u001b[0;32m----> 3\u001b[0;31m \u001b[0;32mprint\u001b[0m\u001b[0;34m(\u001b[0m\u001b[0mpickle\u001b[0m\u001b[0;34m.\u001b[0m\u001b[0mdump\u001b[0m\u001b[0;34m(\u001b[0m\u001b[0mdogs_dict\u001b[0m\u001b[0;34m)\u001b[0m\u001b[0;34m)\u001b[0m\u001b[0;34m\u001b[0m\u001b[0m\n\u001b[0m",
      "\u001b[0;31mTypeError\u001b[0m: dump() takes at least 2 arguments (1 given)"
     ]
    }
   ],
   "source": [
    "import pickle\n",
    "dogs_dict = { 'Ozzy': 3, 'Filou': 8, 'Luna': 5, 'Skippy': 10, 'Barco': 12, 'Balou': 9, 'Laika': 16 }\n",
    "print(pickle.dump(dogs_dict))"
   ]
  },
  {
   "cell_type": "code",
   "execution_count": 14,
   "metadata": {
    "scrolled": true
   },
   "outputs": [
    {
     "name": "stdout",
     "output_type": "stream",
     "text": [
      "-------------\n",
      "|   |   |   |\n",
      "-------------\n",
      "|   |   |   |\n",
      "-------------\n",
      "|   |   |   |\n",
      "-------------\n",
      "\n",
      " Player: 1 >0\n",
      "-------------\n",
      "| O |   |   |\n",
      "-------------\n",
      "|   |   |   |\n",
      "-------------\n",
      "|   |   |   |\n",
      "-------------\n",
      "\n",
      " Player: 2 >0\n"
     ]
    },
    {
     "ename": "SystemExit",
     "evalue": "",
     "output_type": "error",
     "traceback": [
      "An exception has occurred, use %tb to see the full traceback.\n",
      "\u001b[0;31mSystemExit\u001b[0m\n"
     ]
    },
    {
     "name": "stderr",
     "output_type": "stream",
     "text": [
      "/home/iitbhilai/anaconda3/envs/fred/lib/python2.7/site-packages/IPython/core/interactiveshell.py:2886: UserWarning: To exit: use 'exit', 'quit', or Ctrl-D.\n",
      "  warn(\"To exit: use 'exit', 'quit', or Ctrl-D.\", stacklevel=1)\n"
     ]
    }
   ],
   "source": [
    "import sys\n",
    "import os\n",
    "def display_board(ls):\n",
    "    for i in range(0,8,3):\n",
    "        print(\"| \" + ls[i] + \" | \" + ls[i+1] + \" | \" + ls[i+2] + \" |\")\n",
    "        print(\"-------------\")\n",
    "    \n",
    "#display_board(['X', 'O','X', 'O','X', 'O','X', 'O','X'])\n",
    "\n",
    "def win_check(game): \n",
    "    if(game[0]==game[1] and game[1]==game[2] and game[0] != \" \"\n",
    "       or\n",
    "       game[3]==game[4] and game[4]==game[5] and game[3] != \" \"\n",
    "       or\n",
    "       game[6]==game[7] and game[7]==game[8] and game[6] != \" \"\n",
    "      ) : return 1\n",
    "    \n",
    "    elif(game[0]==game[3] and game[3]==game[6] and game[0] != \" \"\n",
    "       or\n",
    "       game[1]==game[4] and game[4]==game[7] and game[1] != \" \"\n",
    "       or\n",
    "       game[2]==game[5] and game[5]==game[8] and game[2] != \" \"\n",
    "      ) : return 1\n",
    "    \n",
    "    elif(game[0]==game[4] and game[4]==game[8] and game[0] != \" \"\n",
    "       or\n",
    "       game[2]==game[4] and game[4]==game[6] and game[2] != \" \"\n",
    "       ) : return 1\n",
    "    \n",
    "    else : return 0\n",
    "\n",
    "\n",
    "    \n",
    "def playerMove(playerNum, game):\n",
    "    print('-'*13 )\n",
    "    display_board(game)\n",
    "    inp = int(raw_input(\"\\n Player: \" + str(playerNum) + \"> \"))\n",
    "    if( game[inp] != \" \"):sys.exit()\n",
    "    if(playerNum == 1): game[inp] = 'O'\n",
    "    elif(playerNum == 2): game[inp] = 'X'\n",
    "    if(win_check(game)):\n",
    "        print(\"Player \" + str(playerNum) + \" WINS\")\n",
    "        print(\"-\"*10)\n",
    "        return 9\n",
    "    else : return 8\n",
    "        \n",
    "        \n",
    "        \n",
    "    \n",
    "game = [\" \",\" \",\" \",\" \",\" \",\" \",\" \",\" \",\" \"]\n",
    "moves = 1\n",
    "cond = 0\n",
    "while moves != 9 and cond !=9:\n",
    "    cond = playerMove(1, game)\n",
    "    moves+=1\n",
    "    cond = playerMove(2, game)\n",
    "    moves+=1\n",
    "\n",
    "if cond != 9:\n",
    "    print(\"Game Draw\")\n",
    "\n",
    "    \n",
    "\n",
    "    \n",
    "    \n",
    "    \n",
    "    "
   ]
  },
  {
   "cell_type": "markdown",
   "metadata": {},
   "source": [
    "## "
   ]
  },
  {
   "cell_type": "code",
   "execution_count": 17,
   "metadata": {},
   "outputs": [
    {
     "ename": "TypeError",
     "evalue": "range() integer step argument expected, got float.",
     "output_type": "error",
     "traceback": [
      "\u001b[0;31m\u001b[0m",
      "\u001b[0;31mTypeError\u001b[0mTraceback (most recent call last)",
      "\u001b[0;32m<ipython-input-17-554bb8214777>\u001b[0m in \u001b[0;36m<module>\u001b[0;34m()\u001b[0m\n\u001b[0;32m----> 1\u001b[0;31m \u001b[0;32mfor\u001b[0m \u001b[0mx\u001b[0m \u001b[0;32min\u001b[0m \u001b[0mrange\u001b[0m\u001b[0;34m(\u001b[0m\u001b[0;36m1\u001b[0m\u001b[0;34m,\u001b[0m\u001b[0;36m5\u001b[0m\u001b[0;34m,\u001b[0m\u001b[0;36m0.5\u001b[0m\u001b[0;34m)\u001b[0m\u001b[0;34m:\u001b[0m\u001b[0;34m\u001b[0m\u001b[0m\n\u001b[0m\u001b[1;32m      2\u001b[0m     \u001b[0;32mprint\u001b[0m \u001b[0mx\u001b[0m\u001b[0;34m\u001b[0m\u001b[0m\n",
      "\u001b[0;31mTypeError\u001b[0m: range() integer step argument expected, got float."
     ]
    }
   ],
   "source": [
    "for x in range(1,5,0.5):\n",
    "    print x"
   ]
  },
  {
   "cell_type": "code",
   "execution_count": null,
   "metadata": {},
   "outputs": [],
   "source": []
  }
 ],
 "metadata": {
  "kernelspec": {
   "display_name": "Python 2",
   "language": "python",
   "name": "python2"
  },
  "language_info": {
   "codemirror_mode": {
    "name": "ipython",
    "version": 2
   },
   "file_extension": ".py",
   "mimetype": "text/x-python",
   "name": "python",
   "nbconvert_exporter": "python",
   "pygments_lexer": "ipython2",
   "version": "2.7.15"
  }
 },
 "nbformat": 4,
 "nbformat_minor": 2
}
